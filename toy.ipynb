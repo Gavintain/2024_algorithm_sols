{
 "cells": [
  {
   "cell_type": "code",
   "execution_count": 41,
   "metadata": {},
   "outputs": [
    {
     "data": {
      "text/plain": [
       "1"
      ]
     },
     "execution_count": 41,
     "metadata": {},
     "output_type": "execute_result"
    }
   ],
   "source": [
    "## 테뷸레이션을 위한 테이블\n",
    "table = [[[None for _ in range(21)] for _ in range(21)] for _ in range(21)]\n",
    "## 사실상 재귀호출 전에 미리 알 수 있는 테이블 값들을 채우기\n",
    "for i in range(21):\n",
    "    for j in range(21):\n",
    "        table[i][j][0] = 1\n",
    "        table[i][0][j] = 1\n",
    "        table[0][i][j] = 1\n",
    "table[1][1][0]"
   ]
  }
 ],
 "metadata": {
  "kernelspec": {
   "display_name": "coding_test",
   "language": "python",
   "name": "python3"
  },
  "language_info": {
   "codemirror_mode": {
    "name": "ipython",
    "version": 3
   },
   "file_extension": ".py",
   "mimetype": "text/x-python",
   "name": "python",
   "nbconvert_exporter": "python",
   "pygments_lexer": "ipython3",
   "version": "3.12.1"
  }
 },
 "nbformat": 4,
 "nbformat_minor": 2
}
